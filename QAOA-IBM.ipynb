{
 "cells": [
  {
   "cell_type": "code",
   "execution_count": 48,
   "metadata": {},
   "outputs": [],
   "source": [
    "import numpy as np\n",
    "\n",
    "from qiskit import BasicAer, ClassicalRegister, QuantumRegister, QuantumCircuit\n",
    "from qiskit.tools.visualization import plot_histogram\n",
    "from qiskit.aqua import Operator, run_algorithm\n",
    "from qiskit.aqua.translators.ising import max_cut\n",
    "from qiskit.aqua.algorithms import QAOA, VQE\n",
    "from qiskit.aqua.components.optimizers import SPSA\n",
    "from qiskit.aqua import QuantumInstance\n",
    "from qiskit.quantum_info import Pauli\n",
    "\n",
    "from qiskit.aqua.components.variational_forms import RY\n",
    "\n",
    "from pyqubo import Binary\n",
    "\n",
    "# setup aqua logging\n",
    "import logging\n",
    "from qiskit.aqua import set_qiskit_aqua_logging\n",
    "# set_qiskit_aqua_logging(logging.DEBUG)  # choose INFO, DEBUG to see the log"
   ]
  },
  {
   "cell_type": "code",
   "execution_count": 18,
   "metadata": {},
   "outputs": [],
   "source": [
    "## EXAMPLE Problem -> Replace with general form\n",
    "binArr = []\n",
    "variable = []\n",
    "index = 0\n",
    "for i in range(0,2):\n",
    "    binArr.append(Binary('s'+str(i+1)))\n",
    "    variable.append('s' + str(i+1))\n",
    "#s1,s2,s3,s4,s5 = binArr[0], binArr[1], binArr[2], binArr[3], binArr[4]\n",
    "H =  s2+ s1\n",
    "H = H * H"
   ]
  },
  {
   "cell_type": "code",
   "execution_count": null,
   "metadata": {},
   "outputs": [],
   "source": [
    "def get_ising_opt_qubitops(model, variables):\n",
    "    \n",
    "    num_variables = len(variables)\n",
    "    var_to_int = dict(zip(variables, range(num_variables)))\n",
    "\n",
    "    linear, quadratic, offset = model.compile().to_ising()\n",
    "    \n",
    "    pauli_list = []\n",
    "    for (i,j),weight in quadratic.items():\n",
    "        xs = np.zeros(num_variables, dtype=np.bool)\n",
    "        zs = np.zeros(num_variables, dtype=np.bool)\n",
    "        zs[var_to_int[i]] = True\n",
    "        zs[var_to_int[j]] = True\n",
    "        pauli_list.append([weight, Pauli(zs, xs)])\n",
    "    \n",
    "    for (i,weight) in linear.items():\n",
    "        xs = np.zeros(num_variables, dtype=np.bool)\n",
    "        zs = np.zeros(num_variables, dtype=np.bool)\n",
    "        zs[var_to_int[i]] = True\n",
    "        pauli_list.append([weight, Pauli(zs, xs)])\n",
    "        \n",
    "    return Operator(paulis=pauli_list), offset"
   ]
  },
  {
   "cell_type": "code",
   "execution_count": 50,
   "metadata": {},
   "outputs": [],
   "source": [
    "def run_IBM(H=H, backend = None, num_samples=100,qaoa_steps=1):\n",
    "    variables = variable#H.variables()\n",
    "    num_vars = len(variables)\n",
    "    \n",
    "    qubit_op, offset = get_ising_opt_qubitops(H,variables)\n",
    "    \n",
    "    if backend == None:\n",
    "        backend = BasicAer.get_backend('statevector_simulator')\n",
    "    quantum_instance = QuantumInstance(backend)\n",
    "    \n",
    "    \n",
    "    spsa = SPSA(max_trials=300)\n",
    "    qaoa = QAOA(qubit_op, spsa, qaoa_steps)    \n",
    "    result = qaoa.run(quantum_instance)\n",
    "    \n",
    "    circ = qaoa.get_optimal_circuit()\n",
    "    q = circ.qregs\n",
    "    print(q)\n",
    "    c = ClassicalRegister(num_vars)\n",
    "    circ.measure(q,c)\n",
    "    job=execute(circ,backend,shots=num_samples)\n",
    "    return job.result().get_counts(circ)\n",
    "    \n",
    "    \n",
    "    \n",
    "   # results = []\n",
    "    \n",
    "    \n",
    "    \n",
    "#             # if the backend is a statevector, we get a statevector as the optimal vector\n",
    "#             #  we want samples from this state\n",
    "#             if qaoa._quantum_instance.is_statevector:\n",
    "#                 opt_vector = qaoa.get_optimal_vector()\n",
    "#                 for i in range(len(opt_vector)):\n",
    "#                     opt_vector[i] = np.norm(opt_vector[i])**2\n",
    "#                 for i in range(num_samples):\n",
    "#                     p = np.random.random():\n",
    "#                     j = -1\n",
    "#                     while p > 0:\n",
    "#                         j += 1\n",
    "#                         p -= opt_vector[i]  \n",
    "\n",
    "#             # otherwise we actually get samples for the optimal vector\n",
    "#             else:\n",
    "#                 for i in range(num_samples):\n",
    "#                     results.append(qaoa.get_optimal_vector())    \n",
    "    \n",
    "    return result"
   ]
  },
  {
   "cell_type": "code",
   "execution_count": 51,
   "metadata": {},
   "outputs": [
    {
     "name": "stdout",
     "output_type": "stream",
     "text": [
      "0.5\n",
      "[QuantumRegister(2, 'q')]\n"
     ]
    },
    {
     "ename": "QiskitError",
     "evalue": "\"Type error handling [QuantumRegister(2, 'q')] (<class 'list'>)\"",
     "output_type": "error",
     "traceback": [
      "\u001b[1;31m-------------------------------------------------------------------\u001b[0m",
      "\u001b[1;31mTypeError\u001b[0m                         Traceback (most recent call last)",
      "\u001b[1;32mc:\\users\\zakww\\documents\\programming\\qiskit\\qiskit-terra\\qiskit\\circuit\\quantumcircuit.py\u001b[0m in \u001b[0;36m_bit_argument_conversion\u001b[1;34m(bit_representation, in_array)\u001b[0m\n\u001b[0;32m    298\u001b[0m                 \u001b[1;31m# circuit.h(range(0,2)) -> circuit.h([qr[0], qr[1]])\u001b[0m\u001b[1;33m\u001b[0m\u001b[1;33m\u001b[0m\u001b[0m\n\u001b[1;32m--> 299\u001b[1;33m                 \u001b[0mret\u001b[0m \u001b[1;33m=\u001b[0m \u001b[1;33m[\u001b[0m\u001b[0min_array\u001b[0m\u001b[1;33m[\u001b[0m\u001b[0mindex\u001b[0m\u001b[1;33m]\u001b[0m \u001b[1;32mfor\u001b[0m \u001b[0mindex\u001b[0m \u001b[1;32min\u001b[0m \u001b[0mbit_representation\u001b[0m\u001b[1;33m]\u001b[0m\u001b[1;33m\u001b[0m\u001b[0m\n\u001b[0m\u001b[0;32m    300\u001b[0m             \u001b[1;32melse\u001b[0m\u001b[1;33m:\u001b[0m\u001b[1;33m\u001b[0m\u001b[0m\n",
      "\u001b[1;32mc:\\users\\zakww\\documents\\programming\\qiskit\\qiskit-terra\\qiskit\\circuit\\quantumcircuit.py\u001b[0m in \u001b[0;36m<listcomp>\u001b[1;34m(.0)\u001b[0m\n\u001b[0;32m    298\u001b[0m                 \u001b[1;31m# circuit.h(range(0,2)) -> circuit.h([qr[0], qr[1]])\u001b[0m\u001b[1;33m\u001b[0m\u001b[1;33m\u001b[0m\u001b[0m\n\u001b[1;32m--> 299\u001b[1;33m                 \u001b[0mret\u001b[0m \u001b[1;33m=\u001b[0m \u001b[1;33m[\u001b[0m\u001b[0min_array\u001b[0m\u001b[1;33m[\u001b[0m\u001b[0mindex\u001b[0m\u001b[1;33m]\u001b[0m \u001b[1;32mfor\u001b[0m \u001b[0mindex\u001b[0m \u001b[1;32min\u001b[0m \u001b[0mbit_representation\u001b[0m\u001b[1;33m]\u001b[0m\u001b[1;33m\u001b[0m\u001b[0m\n\u001b[0m\u001b[0;32m    300\u001b[0m             \u001b[1;32melse\u001b[0m\u001b[1;33m:\u001b[0m\u001b[1;33m\u001b[0m\u001b[0m\n",
      "\u001b[1;31mTypeError\u001b[0m: list indices must be integers or slices, not QuantumRegister",
      "\nDuring handling of the above exception, another exception occurred:\n",
      "\u001b[1;31mQiskitError\u001b[0m                       Traceback (most recent call last)",
      "\u001b[1;32m<ipython-input-51-14e35b9c3b16>\u001b[0m in \u001b[0;36m<module>\u001b[1;34m\u001b[0m\n\u001b[1;32m----> 1\u001b[1;33m \u001b[0mresult\u001b[0m \u001b[1;33m=\u001b[0m \u001b[0mrun_IBM\u001b[0m\u001b[1;33m(\u001b[0m\u001b[1;33m)\u001b[0m\u001b[1;33m\u001b[0m\u001b[0m\n\u001b[0m",
      "\u001b[1;32m<ipython-input-50-71d885fbad53>\u001b[0m in \u001b[0;36mrun_IBM\u001b[1;34m(H, backend, num_samples, qaoa_steps)\u001b[0m\n\u001b[0;32m     18\u001b[0m     \u001b[0mprint\u001b[0m\u001b[1;33m(\u001b[0m\u001b[0mq\u001b[0m\u001b[1;33m)\u001b[0m\u001b[1;33m\u001b[0m\u001b[0m\n\u001b[0;32m     19\u001b[0m     \u001b[0mc\u001b[0m \u001b[1;33m=\u001b[0m \u001b[0mClassicalRegister\u001b[0m\u001b[1;33m(\u001b[0m\u001b[0mnum_vars\u001b[0m\u001b[1;33m)\u001b[0m\u001b[1;33m\u001b[0m\u001b[0m\n\u001b[1;32m---> 20\u001b[1;33m     \u001b[0mcirc\u001b[0m\u001b[1;33m.\u001b[0m\u001b[0mmeasure\u001b[0m\u001b[1;33m(\u001b[0m\u001b[0mq\u001b[0m\u001b[1;33m,\u001b[0m\u001b[0mc\u001b[0m\u001b[1;33m)\u001b[0m\u001b[1;33m\u001b[0m\u001b[0m\n\u001b[0m\u001b[0;32m     21\u001b[0m     \u001b[0mjob\u001b[0m\u001b[1;33m=\u001b[0m\u001b[0mexecute\u001b[0m\u001b[1;33m(\u001b[0m\u001b[0mcirc\u001b[0m\u001b[1;33m,\u001b[0m\u001b[0mbackend\u001b[0m\u001b[1;33m,\u001b[0m\u001b[0mshots\u001b[0m\u001b[1;33m=\u001b[0m\u001b[0mnum_samples\u001b[0m\u001b[1;33m)\u001b[0m\u001b[1;33m\u001b[0m\u001b[0m\n\u001b[0;32m     22\u001b[0m     \u001b[1;32mreturn\u001b[0m \u001b[0mjob\u001b[0m\u001b[1;33m.\u001b[0m\u001b[0mresult\u001b[0m\u001b[1;33m(\u001b[0m\u001b[1;33m)\u001b[0m\u001b[1;33m.\u001b[0m\u001b[0mget_counts\u001b[0m\u001b[1;33m(\u001b[0m\u001b[0mcirc\u001b[0m\u001b[1;33m)\u001b[0m\u001b[1;33m\u001b[0m\u001b[0m\n",
      "\u001b[1;32mc:\\users\\zakww\\documents\\programming\\qiskit\\qiskit-terra\\qiskit\\circuit\\measure.py\u001b[0m in \u001b[0;36mmeasure\u001b[1;34m(self, qubit, cbit)\u001b[0m\n\u001b[0;32m     56\u001b[0m             \u001b[1;32mif\u001b[0m \u001b[0mcbit\u001b[0m \u001b[1;32mis\u001b[0m \u001b[1;32mnot\u001b[0m \u001b[1;32min\u001b[0m \u001b[0mthis\u001b[0m \u001b[0mcircuit\u001b[0m \u001b[1;32mor\u001b[0m \u001b[1;32mnot\u001b[0m \u001b[0mcreg\u001b[0m\u001b[1;33m.\u001b[0m\u001b[1;33m\u001b[0m\u001b[0m\n\u001b[0;32m     57\u001b[0m     \"\"\"\n\u001b[1;32m---> 58\u001b[1;33m     \u001b[1;32mreturn\u001b[0m \u001b[0mself\u001b[0m\u001b[1;33m.\u001b[0m\u001b[0mappend\u001b[0m\u001b[1;33m(\u001b[0m\u001b[0mMeasure\u001b[0m\u001b[1;33m(\u001b[0m\u001b[1;33m)\u001b[0m\u001b[1;33m,\u001b[0m \u001b[1;33m[\u001b[0m\u001b[0mqubit\u001b[0m\u001b[1;33m]\u001b[0m\u001b[1;33m,\u001b[0m \u001b[1;33m[\u001b[0m\u001b[0mcbit\u001b[0m\u001b[1;33m]\u001b[0m\u001b[1;33m)\u001b[0m\u001b[1;33m\u001b[0m\u001b[0m\n\u001b[0m\u001b[0;32m     59\u001b[0m \u001b[1;33m\u001b[0m\u001b[0m\n\u001b[0;32m     60\u001b[0m \u001b[1;33m\u001b[0m\u001b[0m\n",
      "\u001b[1;32mc:\\users\\zakww\\documents\\programming\\qiskit\\qiskit-terra\\qiskit\\circuit\\quantumcircuit.py\u001b[0m in \u001b[0;36mappend\u001b[1;34m(self, instruction, qargs, cargs)\u001b[0m\n\u001b[0;32m    350\u001b[0m             \u001b[0minstruction\u001b[0m \u001b[1;33m=\u001b[0m \u001b[0minstruction\u001b[0m\u001b[1;33m.\u001b[0m\u001b[0mto_instruction\u001b[0m\u001b[1;33m(\u001b[0m\u001b[1;33m)\u001b[0m\u001b[1;33m\u001b[0m\u001b[0m\n\u001b[0;32m    351\u001b[0m \u001b[1;33m\u001b[0m\u001b[0m\n\u001b[1;32m--> 352\u001b[1;33m         \u001b[0mexpanded_qargs\u001b[0m \u001b[1;33m=\u001b[0m \u001b[1;33m[\u001b[0m\u001b[0mself\u001b[0m\u001b[1;33m.\u001b[0m\u001b[0mqbit_argument_conversion\u001b[0m\u001b[1;33m(\u001b[0m\u001b[0mqarg\u001b[0m\u001b[1;33m)\u001b[0m \u001b[1;32mfor\u001b[0m \u001b[0mqarg\u001b[0m \u001b[1;32min\u001b[0m \u001b[0mqargs\u001b[0m \u001b[1;32mor\u001b[0m \u001b[1;33m[\u001b[0m\u001b[1;33m]\u001b[0m\u001b[1;33m]\u001b[0m\u001b[1;33m\u001b[0m\u001b[0m\n\u001b[0m\u001b[0;32m    353\u001b[0m         \u001b[0mexpanded_cargs\u001b[0m \u001b[1;33m=\u001b[0m \u001b[1;33m[\u001b[0m\u001b[0mself\u001b[0m\u001b[1;33m.\u001b[0m\u001b[0mcbit_argument_conversion\u001b[0m\u001b[1;33m(\u001b[0m\u001b[0mcarg\u001b[0m\u001b[1;33m)\u001b[0m \u001b[1;32mfor\u001b[0m \u001b[0mcarg\u001b[0m \u001b[1;32min\u001b[0m \u001b[0mcargs\u001b[0m \u001b[1;32mor\u001b[0m \u001b[1;33m[\u001b[0m\u001b[1;33m]\u001b[0m\u001b[1;33m]\u001b[0m\u001b[1;33m\u001b[0m\u001b[0m\n\u001b[0;32m    354\u001b[0m \u001b[1;33m\u001b[0m\u001b[0m\n",
      "\u001b[1;32mc:\\users\\zakww\\documents\\programming\\qiskit\\qiskit-terra\\qiskit\\circuit\\quantumcircuit.py\u001b[0m in \u001b[0;36m<listcomp>\u001b[1;34m(.0)\u001b[0m\n\u001b[0;32m    350\u001b[0m             \u001b[0minstruction\u001b[0m \u001b[1;33m=\u001b[0m \u001b[0minstruction\u001b[0m\u001b[1;33m.\u001b[0m\u001b[0mto_instruction\u001b[0m\u001b[1;33m(\u001b[0m\u001b[1;33m)\u001b[0m\u001b[1;33m\u001b[0m\u001b[0m\n\u001b[0;32m    351\u001b[0m \u001b[1;33m\u001b[0m\u001b[0m\n\u001b[1;32m--> 352\u001b[1;33m         \u001b[0mexpanded_qargs\u001b[0m \u001b[1;33m=\u001b[0m \u001b[1;33m[\u001b[0m\u001b[0mself\u001b[0m\u001b[1;33m.\u001b[0m\u001b[0mqbit_argument_conversion\u001b[0m\u001b[1;33m(\u001b[0m\u001b[0mqarg\u001b[0m\u001b[1;33m)\u001b[0m \u001b[1;32mfor\u001b[0m \u001b[0mqarg\u001b[0m \u001b[1;32min\u001b[0m \u001b[0mqargs\u001b[0m \u001b[1;32mor\u001b[0m \u001b[1;33m[\u001b[0m\u001b[1;33m]\u001b[0m\u001b[1;33m]\u001b[0m\u001b[1;33m\u001b[0m\u001b[0m\n\u001b[0m\u001b[0;32m    353\u001b[0m         \u001b[0mexpanded_cargs\u001b[0m \u001b[1;33m=\u001b[0m \u001b[1;33m[\u001b[0m\u001b[0mself\u001b[0m\u001b[1;33m.\u001b[0m\u001b[0mcbit_argument_conversion\u001b[0m\u001b[1;33m(\u001b[0m\u001b[0mcarg\u001b[0m\u001b[1;33m)\u001b[0m \u001b[1;32mfor\u001b[0m \u001b[0mcarg\u001b[0m \u001b[1;32min\u001b[0m \u001b[0mcargs\u001b[0m \u001b[1;32mor\u001b[0m \u001b[1;33m[\u001b[0m\u001b[1;33m]\u001b[0m\u001b[1;33m]\u001b[0m\u001b[1;33m\u001b[0m\u001b[0m\n\u001b[0;32m    354\u001b[0m \u001b[1;33m\u001b[0m\u001b[0m\n",
      "\u001b[1;32mc:\\users\\zakww\\documents\\programming\\qiskit\\qiskit-terra\\qiskit\\circuit\\quantumcircuit.py\u001b[0m in \u001b[0;36mqbit_argument_conversion\u001b[1;34m(self, qubit_representation)\u001b[0m\n\u001b[0;32m    319\u001b[0m             \u001b[0mList\u001b[0m\u001b[1;33m(\u001b[0m\u001b[0mtuple\u001b[0m\u001b[1;33m)\u001b[0m\u001b[1;33m:\u001b[0m \u001b[0mWhere\u001b[0m \u001b[0meach\u001b[0m \u001b[0mtuple\u001b[0m \u001b[1;32mis\u001b[0m \u001b[0ma\u001b[0m \u001b[0mqubit\u001b[0m\u001b[1;33m.\u001b[0m\u001b[1;33m\u001b[0m\u001b[0m\n\u001b[0;32m    320\u001b[0m         \"\"\"\n\u001b[1;32m--> 321\u001b[1;33m         \u001b[1;32mreturn\u001b[0m \u001b[0mQuantumCircuit\u001b[0m\u001b[1;33m.\u001b[0m\u001b[0m_bit_argument_conversion\u001b[0m\u001b[1;33m(\u001b[0m\u001b[0mqubit_representation\u001b[0m\u001b[1;33m,\u001b[0m \u001b[0mself\u001b[0m\u001b[1;33m.\u001b[0m\u001b[0mqubits\u001b[0m\u001b[1;33m)\u001b[0m\u001b[1;33m\u001b[0m\u001b[0m\n\u001b[0m\u001b[0;32m    322\u001b[0m \u001b[1;33m\u001b[0m\u001b[0m\n\u001b[0;32m    323\u001b[0m     \u001b[1;32mdef\u001b[0m \u001b[0mcbit_argument_conversion\u001b[0m\u001b[1;33m(\u001b[0m\u001b[0mself\u001b[0m\u001b[1;33m,\u001b[0m \u001b[0mclbit_representation\u001b[0m\u001b[1;33m)\u001b[0m\u001b[1;33m:\u001b[0m\u001b[1;33m\u001b[0m\u001b[0m\n",
      "\u001b[1;32mc:\\users\\zakww\\documents\\programming\\qiskit\\qiskit-terra\\qiskit\\circuit\\quantumcircuit.py\u001b[0m in \u001b[0;36m_bit_argument_conversion\u001b[1;34m(bit_representation, in_array)\u001b[0m\n\u001b[0;32m    305\u001b[0m         \u001b[1;32mexcept\u001b[0m \u001b[0mTypeError\u001b[0m\u001b[1;33m:\u001b[0m\u001b[1;33m\u001b[0m\u001b[0m\n\u001b[0;32m    306\u001b[0m             raise QiskitError('Type error handling %s (%s)' % (bit_representation,\n\u001b[1;32m--> 307\u001b[1;33m                                                                type(bit_representation)))\n\u001b[0m\u001b[0;32m    308\u001b[0m         \u001b[1;32mreturn\u001b[0m \u001b[0mret\u001b[0m\u001b[1;33m\u001b[0m\u001b[0m\n\u001b[0;32m    309\u001b[0m \u001b[1;33m\u001b[0m\u001b[0m\n",
      "\u001b[1;31mQiskitError\u001b[0m: \"Type error handling [QuantumRegister(2, 'q')] (<class 'list'>)\""
     ]
    }
   ],
   "source": [
    "result = run_IBM()"
   ]
  },
  {
   "cell_type": "code",
   "execution_count": 28,
   "metadata": {},
   "outputs": [
    {
     "data": {
      "text/plain": [
       "array([-0.69915972-0.24529751j,  0.41942417-0.19111815j,\n",
       "        0.41942417-0.19111815j,  0.15961794+0.02532527j])"
      ]
     },
     "execution_count": 28,
     "metadata": {},
     "output_type": "execute_result"
    }
   ],
   "source": [
    "opt_vector result[0]"
   ]
  },
  {
   "cell_type": "code",
   "execution_count": 35,
   "metadata": {},
   "outputs": [
    {
     "ename": "AttributeError",
     "evalue": "'list' object has no attribute 'get_counts'",
     "output_type": "error",
     "traceback": [
      "\u001b[1;31m-------------------------------------------------------------------\u001b[0m",
      "\u001b[1;31mAttributeError\u001b[0m                    Traceback (most recent call last)",
      "\u001b[1;32m<ipython-input-35-048a825e6f0c>\u001b[0m in \u001b[0;36m<module>\u001b[1;34m\u001b[0m\n\u001b[1;32m----> 1\u001b[1;33m \u001b[0mresult\u001b[0m\u001b[1;33m.\u001b[0m\u001b[0mget_counts\u001b[0m\u001b[1;33m(\u001b[0m\u001b[1;33m)\u001b[0m\u001b[1;33m\u001b[0m\u001b[0m\n\u001b[0m",
      "\u001b[1;31mAttributeError\u001b[0m: 'list' object has no attribute 'get_counts'"
     ]
    }
   ],
   "source": [
    "result.get_counts()"
   ]
  },
  {
   "cell_type": "code",
   "execution_count": 41,
   "metadata": {},
   "outputs": [
    {
     "data": {
      "text/plain": [
       "{'num_optimizer_evals': None,\n",
       " 'min_val': 1.7824338993042506,\n",
       " 'opt_params': array([-1.23223955e+15,  1.72966858e+15]),\n",
       " 'eval_time': 27.80966877937317,\n",
       " 'eval_count': 651,\n",
       " 'energy': 1.7824338993042506,\n",
       " 'eigvals': array([1.7824339]),\n",
       " 'min_vector': array([ 0.41409144-0.78400652j,  0.12761463-0.22946802j,\n",
       "         0.12761463-0.22946802j, -0.16563844-0.22032666j]),\n",
       " 'eigvecs': array([[ 0.41409144-0.78400652j,  0.12761463-0.22946802j,\n",
       "          0.12761463-0.22946802j, -0.16563844-0.22032666j]])}"
      ]
     },
     "execution_count": 41,
     "metadata": {},
     "output_type": "execute_result"
    }
   ],
   "source": [
    "result"
   ]
  },
  {
   "cell_type": "code",
   "execution_count": null,
   "metadata": {},
   "outputs": [],
   "source": []
  }
 ],
 "metadata": {
  "kernelspec": {
   "display_name": "Python 3",
   "language": "python",
   "name": "python3"
  },
  "language_info": {
   "codemirror_mode": {
    "name": "ipython",
    "version": 3
   },
   "file_extension": ".py",
   "mimetype": "text/x-python",
   "name": "python",
   "nbconvert_exporter": "python",
   "pygments_lexer": "ipython3",
   "version": "3.7.0"
  }
 },
 "nbformat": 4,
 "nbformat_minor": 2
}
